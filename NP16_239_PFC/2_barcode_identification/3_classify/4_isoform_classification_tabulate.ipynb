{
 "cells": [
  {
   "cell_type": "markdown",
   "id": "7754c47e-cdd7-499e-95f8-446dbc790fc4",
   "metadata": {},
   "source": [
    "### Szi Kay Leung (S.K.Leung@exeter.ac.uk)\n",
    "\n",
    "**Aim: Stats from manually merging barcodes, cell types and long-read collapsed isoforms in single cell dataset** "
   ]
  },
  {
   "cell_type": "markdown",
   "id": "235c8b81-4cec-4dc7-ac80-7ad6fd0961ed",
   "metadata": {},
   "source": [
    "### Load packages and read in files"
   ]
  },
  {
   "cell_type": "code",
   "execution_count": 1,
   "id": "7d214126-0f04-4712-b6cb-452d20061c8f",
   "metadata": {},
   "outputs": [],
   "source": [
    "suppressWarnings({\n",
    "    suppressMessages(library(\"data.table\"))\n",
    "    suppressMessages(library(\"dplyr\"))\n",
    "})"
   ]
  },
  {
   "cell_type": "code",
   "execution_count": 2,
   "id": "ae5933c8-1de7-4f79-8d20-079a65ac2b2c",
   "metadata": {},
   "outputs": [],
   "source": [
    "# path directories\n",
    "#dir = \"/lustre/projects/Research_Project-MRC190311/longReadSeq/ONTRNA/Gina/analysis/6_blaze/\"\n",
    "#dir = \"/lustre/projects/Research_Project-MRC190311/longReadSeq/ONTRNA/Gina/analysis/6_blaze/5_postClassification/\"\n",
    "dir = \"C:/Users/sl693/OneDrive - University of Exeter/ExeterPostDoc/1_Projects/10XSingleCell/pilot_V0311/postCellClassification/\"\n",
    "\n",
    "# load data\n",
    "# barcodesAnno = output from Seurat of each barcode and corresponding cell type classified from short-read RNA-Seq data\n",
    "barcodesAnno = fread(paste0(dir, \"barcodesCellType.csv\"), data.table = F)\n",
    "# barcodes = output from BLAZE identifying barcodes from long-read ONT data\n",
    "barcodes = fread(paste0(dir,\"NP16_239_PFCputative_bc.csv\"), data.table = F)"
   ]
  },
  {
   "cell_type": "code",
   "execution_count": null,
   "id": "cfe86256-f2df-41f3-85ea-3f733c94a334",
   "metadata": {},
   "outputs": [],
   "source": [
    "# readstat = output from Iso-Seq collapse\n",
    "readstat <- fread(paste0(dir, \"NP16_239_PFC_collapsed_split2.read_stat.txt\")\n",
    "colnames(readstat) <- c(\"read_id\",\"pbid\")"
   ]
  },
  {
   "cell_type": "markdown",
   "id": "759dc474-765b-4c0b-9a52-e056c2d698cd",
   "metadata": {},
   "source": [
    "### Filtering long-read sequencing data by barcode quality"
   ]
  },
  {
   "cell_type": "markdown",
   "id": "4f6890c2-3328-401a-8199-65c44b597562",
   "metadata": {},
   "source": [
    "1. Keeping reads that only contains AAAAAA and TTTT post UMI \n",
    "2. Keeping reads with minimum barcode quality Q > 12 (94% accuracy, default threshold)\n",
    "3. Geeping reads that have GATCT, CTAGA in sequence before barcode"
   ]
  },
  {
   "cell_type": "code",
   "execution_count": 3,
   "id": "7f072a60-fa9c-4b47-a6bb-ab62157d4c17",
   "metadata": {},
   "outputs": [],
   "source": [
    "# 1. Containing only AAA and TTT post UMI\n",
    "filteredbarcodes <- barcodes %>% filter(post_umi_flanking %in% c(\"AAAA\", \"AAAAA\", \"TTTTT\", \"TTTT\"))\n",
    "\n",
    "# keeping record of the number of barcodes with other sequences flanking post umi\n",
    "post_umi_groups <- barcodes %>% group_by(post_umi_flanking) %>% tally() %>% as.data.frame()\n",
    "write.csv(post_umi_groups, paste0(dir, \"post_umi_groups.csv\"), row.names = F)"
   ]
  },
  {
   "cell_type": "code",
   "execution_count": null,
   "id": "61daf8e2-e14b-44d9-95ce-57baa6ec004e",
   "metadata": {},
   "outputs": [],
   "source": [
    "# 2. Minimum barcode quality > 12 \n",
    "filteredbarcodesQual <- filteredbarcodes %>% filter(putative_bc_min_q >= 12)\n",
    "\n",
    "# plotting a distribution of barcode quality\n",
    "pdf(paste0(dir, \"hist_barcode_quality.pdf\"))\n",
    "hist(barcodes$putative_bc_min_q)\n",
    "dev.off()"
   ]
  },
  {
   "cell_type": "code",
   "execution_count": null,
   "id": "242be926-bdd4-4dea-8435-cf9052a40e3b",
   "metadata": {},
   "outputs": [],
   "source": [
    "# 3. GATCT, CTAGA in sequence before barcode\n",
    "longReadBarcodesFiltered <- filteredbarcodesQual %>% filter(pre_bc_flanking %in% c(\"GATCT\", \"CTAGA\"))\n",
    "\n",
    "# plotting a distribution of polyT end sequences\n",
    "# not quite sure what metric does\n",
    "pdf(paste0(dir, \"polyT_end.pdf\"))\n",
    "hist(longReadBarcodesFiltered$polyT_end)\n",
    "dev.off()"
   ]
  },
  {
   "cell_type": "code",
   "execution_count": null,
   "id": "db95a1d8-0bc4-4434-986a-147a80addc30",
   "metadata": {},
   "outputs": [],
   "source": [
    "# save output\n",
    "write.csv(longReadBarcodesFiltered, paste0(dir, \"NP16_239_PFCputative_bc_filtered.csv\"), row.names = F, quote = F)"
   ]
  },
  {
   "cell_type": "markdown",
   "id": "829ceea5-651e-492f-aa17-655695637379",
   "metadata": {},
   "source": [
    "### Merging long-read sequencing data with filtered barcodes to the cell types classified from Seurat"
   ]
  },
  {
   "cell_type": "code",
   "execution_count": null,
   "id": "f1490c82-f97b-4dff-a74f-d8bf3baa2952",
   "metadata": {},
   "outputs": [],
   "source": [
    "# faster to merge as data.table\n",
    "longReadBarcodesFiltered <- as.data.table(longReadBarcodesFiltered)\n",
    "barcodesAnno<- as.data.table(barcodesAnno)\n",
    "mergedFinal <- merge(filteredbarcodesQual, barcodesAnno, by.x = \"putative_bc\", by.y = \"barcode\")"
   ]
  },
  {
   "cell_type": "markdown",
   "id": "69c567f4-59b8-4bf9-8afe-060be48f03ab",
   "metadata": {},
   "source": [
    "### Collapsing cell-type specific long-read to isoforms\n",
    "\n",
    "Using iso-seq collapsed read stat file which lists which ONT reads are collapsed"
   ]
  },
  {
   "cell_type": "code",
   "execution_count": null,
   "id": "1d1ac66d-e1a0-4891-916c-7b5148fd477e",
   "metadata": {},
   "outputs": [],
   "source": [
    "mergedFinalIsoform <- merge(readstat,  mergedFinal, by = \"read_id\", all.y = T)\n",
    "write.csv(mergedFinalIsoform, paste0(dir, \"NP16_239_PFCputative_bc_filtered_annotated_isoform.csv\"), quote = F, row.names = F)\n",
    "\n",
    "# keeping only the reads that are collapsed \n",
    "mergedFinalIsoformFiltered <- mergedFinalIsoform[!is.na(mergedFinalIsoform$pbid),]"
   ]
  },
  {
   "cell_type": "code",
   "execution_count": null,
   "id": "da0ae404-689c-4f41-894f-07e117d393ab",
   "metadata": {},
   "outputs": [],
   "source": [
    "# simplfy output to ease downstream loading\n",
    "mergedFinalIsoformFilteredSimplifed <- mergedFinalIsoformFiltered %>% select(cellType, pbid)\n",
    "write.csv(mergedFinalIsoformFilteredSimplifed, paste0(dir, \"NP16_239_PFCputative_bc_filtered_annotated_isoform_simplifed.csv\"), quote = F, row.names = F)"
   ]
  },
  {
   "cell_type": "markdown",
   "id": "7084bacf-505a-436b-ae8a-1b3aa609bb3e",
   "metadata": {},
   "source": [
    "### Summary table"
   ]
  },
  {
   "cell_type": "code",
   "execution_count": null,
   "id": "997c1c13-70c5-499b-bd87-075923e505fa",
   "metadata": {},
   "outputs": [],
   "source": []
  }
 ],
 "metadata": {
  "kernelspec": {
   "display_name": "R",
   "language": "R",
   "name": "ir"
  },
  "language_info": {
   "codemirror_mode": "r",
   "file_extension": ".r",
   "mimetype": "text/x-r-source",
   "name": "R",
   "pygments_lexer": "r",
   "version": "4.4.1"
  }
 },
 "nbformat": 4,
 "nbformat_minor": 5
}
